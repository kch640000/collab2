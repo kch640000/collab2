{
  "nbformat": 4,
  "nbformat_minor": 0,
  "metadata": {
    "colab": {
      "name": "11-3.결정트리 퀴즈.ipynb",
      "provenance": [],
      "collapsed_sections": [],
      "include_colab_link": true
    },
    "kernelspec": {
      "name": "python3",
      "display_name": "Python 3"
    },
    "language_info": {
      "name": "python"
    }
  },
  "cells": [
    {
      "cell_type": "markdown",
      "metadata": {
        "id": "view-in-github",
        "colab_type": "text"
      },
      "source": [
        "<a href=\"https://colab.research.google.com/github/kch640000/collab2/blob/main/11_3_%EA%B2%B0%EC%A0%95%ED%8A%B8%EB%A6%AC_%ED%80%B4%EC%A6%88.ipynb\" target=\"_parent\"><img src=\"https://colab.research.google.com/assets/colab-badge.svg\" alt=\"Open In Colab\"/></a>"
      ]
    },
    {
      "cell_type": "code",
      "metadata": {
        "colab": {
          "base_uri": "https://localhost:8080/",
          "height": 221
        },
        "id": "0LCwpVsG80-m",
        "outputId": "f436e798-9023-42e2-e8d9-b2d87635b132"
      },
      "source": [
        "import pandas as pd\n",
        "wine=pd.read_csv('https://bit.ly/wine-date')\n",
        "print(wine.shape)\n",
        "wine.head()"
      ],
      "execution_count": null,
      "outputs": [
        {
          "output_type": "stream",
          "text": [
            "(6497, 4)\n"
          ],
          "name": "stdout"
        },
        {
          "output_type": "execute_result",
          "data": {
            "text/html": [
              "<div>\n",
              "<style scoped>\n",
              "    .dataframe tbody tr th:only-of-type {\n",
              "        vertical-align: middle;\n",
              "    }\n",
              "\n",
              "    .dataframe tbody tr th {\n",
              "        vertical-align: top;\n",
              "    }\n",
              "\n",
              "    .dataframe thead th {\n",
              "        text-align: right;\n",
              "    }\n",
              "</style>\n",
              "<table border=\"1\" class=\"dataframe\">\n",
              "  <thead>\n",
              "    <tr style=\"text-align: right;\">\n",
              "      <th></th>\n",
              "      <th>alcohol</th>\n",
              "      <th>sugar</th>\n",
              "      <th>pH</th>\n",
              "      <th>class</th>\n",
              "    </tr>\n",
              "  </thead>\n",
              "  <tbody>\n",
              "    <tr>\n",
              "      <th>0</th>\n",
              "      <td>9.4</td>\n",
              "      <td>1.9</td>\n",
              "      <td>3.51</td>\n",
              "      <td>0.0</td>\n",
              "    </tr>\n",
              "    <tr>\n",
              "      <th>1</th>\n",
              "      <td>9.8</td>\n",
              "      <td>2.6</td>\n",
              "      <td>3.20</td>\n",
              "      <td>0.0</td>\n",
              "    </tr>\n",
              "    <tr>\n",
              "      <th>2</th>\n",
              "      <td>9.8</td>\n",
              "      <td>2.3</td>\n",
              "      <td>3.26</td>\n",
              "      <td>0.0</td>\n",
              "    </tr>\n",
              "    <tr>\n",
              "      <th>3</th>\n",
              "      <td>9.8</td>\n",
              "      <td>1.9</td>\n",
              "      <td>3.16</td>\n",
              "      <td>0.0</td>\n",
              "    </tr>\n",
              "    <tr>\n",
              "      <th>4</th>\n",
              "      <td>9.4</td>\n",
              "      <td>1.9</td>\n",
              "      <td>3.51</td>\n",
              "      <td>0.0</td>\n",
              "    </tr>\n",
              "  </tbody>\n",
              "</table>\n",
              "</div>"
            ],
            "text/plain": [
              "   alcohol  sugar    pH  class\n",
              "0      9.4    1.9  3.51    0.0\n",
              "1      9.8    2.6  3.20    0.0\n",
              "2      9.8    2.3  3.26    0.0\n",
              "3      9.8    1.9  3.16    0.0\n",
              "4      9.4    1.9  3.51    0.0"
            ]
          },
          "metadata": {
            "tags": []
          },
          "execution_count": 86
        }
      ]
    },
    {
      "cell_type": "code",
      "metadata": {
        "id": "31WZKYRCFCeS"
      },
      "source": [
        ""
      ],
      "execution_count": null,
      "outputs": []
    },
    {
      "cell_type": "code",
      "metadata": {
        "colab": {
          "base_uri": "https://localhost:8080/",
          "height": 489
        },
        "id": "hYTYQSpH9hk-",
        "outputId": "e51267a0-ebc5-4cb3-8595-bacb2c871c26"
      },
      "source": [
        "wine.info()\n",
        "wine.describe()"
      ],
      "execution_count": null,
      "outputs": [
        {
          "output_type": "stream",
          "text": [
            "<class 'pandas.core.frame.DataFrame'>\n",
            "RangeIndex: 6497 entries, 0 to 6496\n",
            "Data columns (total 4 columns):\n",
            " #   Column   Non-Null Count  Dtype  \n",
            "---  ------   --------------  -----  \n",
            " 0   alcohol  6497 non-null   float64\n",
            " 1   sugar    6497 non-null   float64\n",
            " 2   pH       6497 non-null   float64\n",
            " 3   class    6497 non-null   float64\n",
            "dtypes: float64(4)\n",
            "memory usage: 203.2 KB\n"
          ],
          "name": "stdout"
        },
        {
          "output_type": "execute_result",
          "data": {
            "text/html": [
              "<div>\n",
              "<style scoped>\n",
              "    .dataframe tbody tr th:only-of-type {\n",
              "        vertical-align: middle;\n",
              "    }\n",
              "\n",
              "    .dataframe tbody tr th {\n",
              "        vertical-align: top;\n",
              "    }\n",
              "\n",
              "    .dataframe thead th {\n",
              "        text-align: right;\n",
              "    }\n",
              "</style>\n",
              "<table border=\"1\" class=\"dataframe\">\n",
              "  <thead>\n",
              "    <tr style=\"text-align: right;\">\n",
              "      <th></th>\n",
              "      <th>alcohol</th>\n",
              "      <th>sugar</th>\n",
              "      <th>pH</th>\n",
              "      <th>class</th>\n",
              "    </tr>\n",
              "  </thead>\n",
              "  <tbody>\n",
              "    <tr>\n",
              "      <th>count</th>\n",
              "      <td>6497.000000</td>\n",
              "      <td>6497.000000</td>\n",
              "      <td>6497.000000</td>\n",
              "      <td>6497.000000</td>\n",
              "    </tr>\n",
              "    <tr>\n",
              "      <th>mean</th>\n",
              "      <td>10.491801</td>\n",
              "      <td>5.443235</td>\n",
              "      <td>3.218501</td>\n",
              "      <td>0.753886</td>\n",
              "    </tr>\n",
              "    <tr>\n",
              "      <th>std</th>\n",
              "      <td>1.192712</td>\n",
              "      <td>4.757804</td>\n",
              "      <td>0.160787</td>\n",
              "      <td>0.430779</td>\n",
              "    </tr>\n",
              "    <tr>\n",
              "      <th>min</th>\n",
              "      <td>8.000000</td>\n",
              "      <td>0.600000</td>\n",
              "      <td>2.720000</td>\n",
              "      <td>0.000000</td>\n",
              "    </tr>\n",
              "    <tr>\n",
              "      <th>25%</th>\n",
              "      <td>9.500000</td>\n",
              "      <td>1.800000</td>\n",
              "      <td>3.110000</td>\n",
              "      <td>1.000000</td>\n",
              "    </tr>\n",
              "    <tr>\n",
              "      <th>50%</th>\n",
              "      <td>10.300000</td>\n",
              "      <td>3.000000</td>\n",
              "      <td>3.210000</td>\n",
              "      <td>1.000000</td>\n",
              "    </tr>\n",
              "    <tr>\n",
              "      <th>75%</th>\n",
              "      <td>11.300000</td>\n",
              "      <td>8.100000</td>\n",
              "      <td>3.320000</td>\n",
              "      <td>1.000000</td>\n",
              "    </tr>\n",
              "    <tr>\n",
              "      <th>max</th>\n",
              "      <td>14.900000</td>\n",
              "      <td>65.800000</td>\n",
              "      <td>4.010000</td>\n",
              "      <td>1.000000</td>\n",
              "    </tr>\n",
              "  </tbody>\n",
              "</table>\n",
              "</div>"
            ],
            "text/plain": [
              "           alcohol        sugar           pH        class\n",
              "count  6497.000000  6497.000000  6497.000000  6497.000000\n",
              "mean     10.491801     5.443235     3.218501     0.753886\n",
              "std       1.192712     4.757804     0.160787     0.430779\n",
              "min       8.000000     0.600000     2.720000     0.000000\n",
              "25%       9.500000     1.800000     3.110000     1.000000\n",
              "50%      10.300000     3.000000     3.210000     1.000000\n",
              "75%      11.300000     8.100000     3.320000     1.000000\n",
              "max      14.900000    65.800000     4.010000     1.000000"
            ]
          },
          "metadata": {
            "tags": []
          },
          "execution_count": 87
        }
      ]
    },
    {
      "cell_type": "code",
      "metadata": {
        "colab": {
          "base_uri": "https://localhost:8080/"
        },
        "id": "hnibWsNS-YpD",
        "outputId": "e436ffff-e857-4c0f-9d87-9fe32ef9fe93"
      },
      "source": [
        "set(wine['class'])"
      ],
      "execution_count": null,
      "outputs": [
        {
          "output_type": "execute_result",
          "data": {
            "text/plain": [
              "{0.0, 1.0}"
            ]
          },
          "metadata": {
            "tags": []
          },
          "execution_count": 88
        }
      ]
    },
    {
      "cell_type": "code",
      "metadata": {
        "colab": {
          "base_uri": "https://localhost:8080/"
        },
        "id": "0jiuBy6o_ijy",
        "outputId": "8aed27ae-9c8d-4309-a12f-403f91cfad42"
      },
      "source": [
        "wine['class'].unique()"
      ],
      "execution_count": null,
      "outputs": [
        {
          "output_type": "execute_result",
          "data": {
            "text/plain": [
              "array([0., 1.])"
            ]
          },
          "metadata": {
            "tags": []
          },
          "execution_count": 89
        }
      ]
    },
    {
      "cell_type": "code",
      "metadata": {
        "colab": {
          "base_uri": "https://localhost:8080/"
        },
        "id": "0vZMsY1G_zKP",
        "outputId": "866f48c0-fea3-490d-9288-d67db59b303e"
      },
      "source": [
        "element_count={}\n",
        "for item in wine['class']:\n",
        "  element_count.setdefault(item, 0)\n",
        "  element_count[item]+=1\n",
        "\n",
        "print(element_count)\n",
        "print(wine['class'].value_counts())"
      ],
      "execution_count": null,
      "outputs": [
        {
          "output_type": "stream",
          "text": [
            "{0.0: 1599, 1.0: 4898}\n",
            "1.0    4898\n",
            "0.0    1599\n",
            "Name: class, dtype: int64\n"
          ],
          "name": "stdout"
        }
      ]
    },
    {
      "cell_type": "code",
      "metadata": {
        "colab": {
          "base_uri": "https://localhost:8080/"
        },
        "id": "1nnK6XSBA0F6",
        "outputId": "6839d91a-1302-4f27-acc4-76e2008b914b"
      },
      "source": [
        "data=wine[['alcohol', 'sugar', 'pH']].to_numpy()\n",
        "target=wine['class'].to_numpy()\n",
        "from sklearn.model_selection import train_test_split\n",
        "train_input, test_input, train_target, test_target=train_test_split(data, target, test_size=0.2, random_state=42)\n",
        "\n",
        "print(train_input.shape, test_input.shape)"
      ],
      "execution_count": null,
      "outputs": [
        {
          "output_type": "stream",
          "text": [
            "(5197, 3) (1300, 3)\n"
          ],
          "name": "stdout"
        }
      ]
    },
    {
      "cell_type": "code",
      "metadata": {
        "id": "CEORkOM5DiCb"
      },
      "source": [
        "from sklearn.preprocessing import StandardScaler\n",
        "ss=StandardScaler()\n",
        "ss.fit(train_input)\n",
        "train_scaled=ss.transform(train_input)\n",
        "test_scaled=ss.transform(test_input)"
      ],
      "execution_count": null,
      "outputs": []
    },
    {
      "cell_type": "code",
      "metadata": {
        "id": "Gj3-YQ1BXVbJ"
      },
      "source": [
        "from sklearn.linear_model import LogisticRegression"
      ],
      "execution_count": null,
      "outputs": []
    },
    {
      "cell_type": "code",
      "metadata": {
        "colab": {
          "base_uri": "https://localhost:8080/"
        },
        "id": "ryKDqP95FI8g",
        "outputId": "89a1d0da-081e-44e2-a2c2-a235bfeabd8a"
      },
      "source": [
        "lor=LogisticRegression() # 기본값인 C=1인 경우\n",
        "lor.fit(train_scaled, train_target)\n",
        "print(lor.score(train_scaled, train_target))\n",
        "print(lor.score(test_scaled, test_target))"
      ],
      "execution_count": null,
      "outputs": [
        {
          "output_type": "stream",
          "text": [
            "0.7808350971714451\n",
            "0.7776923076923077\n"
          ],
          "name": "stdout"
        }
      ]
    },
    {
      "cell_type": "code",
      "metadata": {
        "id": "FkCgK0RA8gC2",
        "colab": {
          "base_uri": "https://localhost:8080/"
        },
        "outputId": "cd572eee-9794-4021-f38a-b484d0eedd22"
      },
      "source": [
        "# 퀴즈 1 (1)\n",
        "lor=LogisticRegression(C=0.001) # C의 값이 작을수록 규제가 큰 것이므로 과소적합이 될 수 있다고 했는데 이 경우는 훈련과 테스트 세트 스코어가 약간 낮아질 뿐임.\n",
        "lor.fit(train_scaled, train_target)\n",
        "print(lor.score(train_scaled, train_target))\n",
        "print(lor.score(test_scaled, test_target))"
      ],
      "execution_count": null,
      "outputs": [
        {
          "output_type": "stream",
          "text": [
            "0.7565903405811045\n",
            "0.7423076923076923\n"
          ],
          "name": "stdout"
        }
      ]
    },
    {
      "cell_type": "code",
      "metadata": {
        "colab": {
          "base_uri": "https://localhost:8080/"
        },
        "id": "y-QdOl9mWmwZ",
        "outputId": "326b94d5-8ef1-445e-f99c-c73fa2749507"
      },
      "source": [
        "lor=LogisticRegression(C=1000) # C의 값이 클수록 규제가 작은 것이므로 과대적합이 될 수 있다고 했는데 이 경우는 훈련 세트 스코어가 오히려 약간 낮아져서 두 값의 차이가 줄어듬.\n",
        "lor.fit(train_scaled, train_target)\n",
        "print(lor.score(train_scaled, train_target))\n",
        "print(lor.score(test_scaled, test_target))"
      ],
      "execution_count": null,
      "outputs": [
        {
          "output_type": "stream",
          "text": [
            "0.7802578410621512\n",
            "0.7776923076923077\n"
          ],
          "name": "stdout"
        }
      ]
    },
    {
      "cell_type": "code",
      "metadata": {
        "id": "rNy_IRSreB0j"
      },
      "source": [
        "from sklearn.preprocessing import PolynomialFeatures"
      ],
      "execution_count": null,
      "outputs": []
    },
    {
      "cell_type": "code",
      "metadata": {
        "colab": {
          "base_uri": "https://localhost:8080/"
        },
        "id": "fzAvBbaOWq6c",
        "outputId": "53f4289b-1be7-4056-f4a3-bc04cad86523"
      },
      "source": [
        "# 퀴즈 1 (2)\n",
        "poly=PolynomialFeatures(include_bias=False) # degree의 기본값인 2인 경우\n",
        "poly.fit(train_scaled)\n",
        "train_poly=poly.transform(train_scaled)\n",
        "test_poly=poly.transform(test_scaled)\n",
        "print(train_poly.shape)\n",
        "\n",
        "lor=LogisticRegression()\n",
        "lor.fit(train_poly, train_target)\n",
        "print(lor.score(train_poly, train_target))\n",
        "print(lor.score(test_poly, test_target))"
      ],
      "execution_count": null,
      "outputs": [
        {
          "output_type": "stream",
          "text": [
            "(5197, 9)\n",
            "0.8283625168366365\n",
            "0.8261538461538461\n"
          ],
          "name": "stdout"
        }
      ]
    },
    {
      "cell_type": "code",
      "metadata": {
        "colab": {
          "base_uri": "https://localhost:8080/"
        },
        "id": "O2LJryzSpbZg",
        "outputId": "5974e5a1-8513-4c3e-8c43-b78d8eaeef0a"
      },
      "source": [
        "poly=PolynomialFeatures(degree=8, include_bias=False) # degree를 8로 한 경우 특성의 개수가 9에서 164까지 증가하여 훈련 세트와 테스트 세트의 성능이 모두 떨어진데다 과소적합이 된 결과로 특성의 규제가 필요함.\n",
        "poly.fit(train_scaled)\n",
        "train_poly=poly.transform(train_scaled)\n",
        "test_poly=poly.transform(test_scaled)\n",
        "print(train_poly.shape)\n",
        "\n",
        "lor=LogisticRegression()\n",
        "lor.fit(train_poly, train_target)\n",
        "print(lor.score(train_poly, train_target))\n",
        "print(lor.score(test_poly, test_target))"
      ],
      "execution_count": null,
      "outputs": [
        {
          "output_type": "stream",
          "text": [
            "(5197, 164)\n",
            "0.7946892437944968\n",
            "0.8007692307692308\n"
          ],
          "name": "stdout"
        },
        {
          "output_type": "stream",
          "text": [
            "/usr/local/lib/python3.7/dist-packages/sklearn/linear_model/_logistic.py:940: ConvergenceWarning: lbfgs failed to converge (status=1):\n",
            "STOP: TOTAL NO. of ITERATIONS REACHED LIMIT.\n",
            "\n",
            "Increase the number of iterations (max_iter) or scale the data as shown in:\n",
            "    https://scikit-learn.org/stable/modules/preprocessing.html\n",
            "Please also refer to the documentation for alternative solver options:\n",
            "    https://scikit-learn.org/stable/modules/linear_model.html#logistic-regression\n",
            "  extra_warning_msg=_LOGISTIC_SOLVER_CONVERGENCE_MSG)\n"
          ],
          "name": "stderr"
        }
      ]
    },
    {
      "cell_type": "code",
      "metadata": {
        "colab": {
          "base_uri": "https://localhost:8080/"
        },
        "id": "mymHF3JHrYVp",
        "outputId": "74675d10-8ff8-4634-f022-b3e863c60599"
      },
      "source": [
        "# 퀴즈 1 (3)\n",
        "poly=PolynomialFeatures(include_bias=False)\n",
        "poly.fit(train_scaled)\n",
        "train_poly=poly.transform(train_scaled)\n",
        "test_poly=poly.transform(test_scaled)\n",
        "print(train_poly.shape)\n",
        "\n",
        "lor=LogisticRegression(solver='newton-cg') # degree의 기본값인 2인 경우 solver 매개변수의 기본값인 lbfgs를 newton-cg로 바꿨을 때 차이가 나타나지 않음.\n",
        "lor.fit(train_poly, train_target)\n",
        "print(lor.score(train_poly, train_target))\n",
        "print(lor.score(test_poly, test_target))"
      ],
      "execution_count": null,
      "outputs": [
        {
          "output_type": "stream",
          "text": [
            "(5197, 9)\n",
            "0.8283625168366365\n",
            "0.8261538461538461\n"
          ],
          "name": "stdout"
        }
      ]
    },
    {
      "cell_type": "code",
      "metadata": {
        "colab": {
          "base_uri": "https://localhost:8080/"
        },
        "id": "jqxdgM1hsH78",
        "outputId": "a83c9d56-aa79-41f3-c6fc-229ddb759d03"
      },
      "source": [
        "poly=PolynomialFeatures(degree=8, include_bias=False)\n",
        "poly.fit(train_scaled)\n",
        "train_poly=poly.transform(train_scaled)\n",
        "test_poly=poly.transform(test_scaled)\n",
        "print(train_poly.shape)\n",
        "\n",
        "lor=LogisticRegression(solver='newton-cg') # degree를 8로 하고 solver 매개변수의 기본값인 lbfgs를 newton-cg로 바꿨을 때 훈련 세트와 테스트 세트의 성능이 모두 좋아지고 과소적합도 해결됨.\n",
        "lor.fit(train_poly, train_target)\n",
        "print(lor.score(train_poly, train_target))\n",
        "print(lor.score(test_poly, test_target))"
      ],
      "execution_count": null,
      "outputs": [
        {
          "output_type": "stream",
          "text": [
            "(5197, 164)\n",
            "0.8760823552049259\n",
            "0.8638461538461538\n"
          ],
          "name": "stdout"
        },
        {
          "output_type": "stream",
          "text": [
            "/usr/local/lib/python3.7/dist-packages/sklearn/utils/optimize.py:212: ConvergenceWarning: newton-cg failed to converge. Increase the number of iterations.\n",
            "  \"number of iterations.\", ConvergenceWarning)\n"
          ],
          "name": "stderr"
        }
      ]
    },
    {
      "cell_type": "code",
      "metadata": {
        "colab": {
          "base_uri": "https://localhost:8080/"
        },
        "id": "Tj5c8qMCsH78",
        "outputId": "2bfe3278-8ef2-4286-a984-a749d930e9eb"
      },
      "source": [
        "poly=PolynomialFeatures(include_bias=False)\n",
        "poly.fit(train_scaled)\n",
        "train_poly=poly.transform(train_scaled)\n",
        "test_poly=poly.transform(test_scaled)\n",
        "print(train_poly.shape)\n",
        "\n",
        "lor=LogisticRegression(solver='liblinear') # degree의 기본값인 2인 경우 solver 매개변수의 기본값인 lbfgs를 liblinear로 바꿨을 때 훈련 세트의 성능만 미세하게 좋아질 뿐 별 차이가 나타나지 않음.\n",
        "lor.fit(train_poly, train_target)\n",
        "print(lor.score(train_poly, train_target))\n",
        "print(lor.score(test_poly, test_target))"
      ],
      "execution_count": null,
      "outputs": [
        {
          "output_type": "stream",
          "text": [
            "(5197, 9)\n",
            "0.8285549355397345\n",
            "0.8261538461538461\n"
          ],
          "name": "stdout"
        }
      ]
    },
    {
      "cell_type": "code",
      "metadata": {
        "colab": {
          "base_uri": "https://localhost:8080/"
        },
        "id": "OTPVyteEpxET",
        "outputId": "193f7819-132e-4b16-b2f0-f33d9c84656f"
      },
      "source": [
        "poly=PolynomialFeatures(degree=8, include_bias=False)\n",
        "poly.fit(train_scaled)\n",
        "train_poly=poly.transform(train_scaled)\n",
        "test_poly=poly.transform(test_scaled)\n",
        "print(train_poly.shape)\n",
        "\n",
        "lor=LogisticRegression(solver='liblinear') # degree를 8로 하고 solver 매개변수의 기본값인 lbfgs를 liblinear로 바꿨을 때 훈련 세트와 테스트 세트의 성능이 약간 떨어졌으나 과소적합은 해결됨.\n",
        "lor.fit(train_poly, train_target)\n",
        "print(lor.score(train_poly, train_target))\n",
        "print(lor.score(test_poly, test_target))"
      ],
      "execution_count": null,
      "outputs": [
        {
          "output_type": "stream",
          "text": [
            "(5197, 164)\n",
            "0.7879545891860689\n",
            "0.7876923076923077\n"
          ],
          "name": "stdout"
        }
      ]
    }
  ]
}